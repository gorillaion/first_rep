{
 "cells": [
  {
   "cell_type": "code",
   "execution_count": 1,
   "metadata": {},
   "outputs": [],
   "source": [
    "import numpy as np\n",
    "import control.matlab as mt\n",
    "import matplotlib.pyplot as plt\n",
    "%matplotlib inline"
   ]
  },
  {
   "cell_type": "code",
   "execution_count": 2,
   "metadata": {},
   "outputs": [],
   "source": [
    "class SystemResponseSimulator:\n",
    "    def __init__(self, sys_A, sys_B, sys_C, x0, ts, tf, dt):\n",
    "        self.A = sys_A\n",
    "        self.B = sys_B\n",
    "        self.C = sys_C\n",
    "    \n",
    "        self.setInitialState(x0)\n",
    "        self.setSimulationTime(ts, tf, dt)\n",
    "            \n",
    "    def setInitialState(self, x0):\n",
    "        self.x0 = x0\n",
    "        \n",
    "    def setSimulationTime(self, ts, tf, dt):\n",
    "        self.dt = dt\n",
    "        self.t  = np.arange(ts, tf, dt)\n",
    "    \n",
    "    def calculateStateDot(self, sys_x, u):\n",
    "        sys_Bu = np.dot(self.B, u)\n",
    "        \n",
    "        k1 = np.dot(self.A, sys_x) + sys_Bu\n",
    "        k2 = np.dot(self.A, (sys_x + 0.5 * k1 * self.dt)) + sys_Bu\n",
    "        k3 = np.dot(self.A, (sys_x + 0.5 * k2 * self.dt)) + sys_Bu\n",
    "        k4 = np.dot(self.A, (sys_x + k3 * self.dt)) + sys_Bu\n",
    "\n",
    "        return sys_x + (k1 + (2.0 * k2) + (2.0 * k3) + k4) * self.dt / 6.0\n",
    "    \n",
    "    def range(self):\n",
    "        return range(self.t.size - 1)\n",
    "    \n",
    "    def freeResponse(self):\n",
    "        x = self.x0\n",
    "        x_out = x\n",
    "\n",
    "        for t in range(self.t.size - 1):\n",
    "            # Calculate input signal\n",
    "            u = 0.0\n",
    "\n",
    "            # Calculate derivative of state variable\n",
    "            x_dot = self.calculateStateDot(x, u)\n",
    "\n",
    "            # Update parameter\n",
    "            x_out = np.hstack((x_out, x_dot))\n",
    "            x = x_dot\n",
    "        \n",
    "        return x_out\n",
    "    \n",
    "    \n",
    "    def stepResponse(self):\n",
    "        x = self.x0\n",
    "        x_out = x\n",
    "\n",
    "        for t in range(self.t.size - 1):\n",
    "            # Calculate input signal\n",
    "            u = 1.0\n",
    "\n",
    "            # Calculate derivative of state variable\n",
    "            x_dot = self.calculateStateDot(x, u)\n",
    "\n",
    "            # Update parameter\n",
    "            x_out = np.hstack((x_out, x_dot))\n",
    "            x = x_dot\n",
    "        \n",
    "        return x_out"
   ]
  },
  {
   "cell_type": "code",
   "execution_count": 5,
   "metadata": {},
   "outputs": [],
   "source": [
    "# System parameter\n",
    "A = np.array([\n",
    "    [    0.,    0.,        1.,     0.],\n",
    "    [    0.,    0.,        0.,     1.],\n",
    "    [ 66.79,    0., -1.509e-3,  1.031],\n",
    "    [-15.90,    0.,  3.593e-4, -126.8]\n",
    "])\n",
    "\n",
    "B = np.array([\n",
    "    [0.],\n",
    "    [0.],\n",
    "    [-1.647],\n",
    "    [202.5]\n",
    "])\n",
    "\n",
    "C = np.array([\n",
    "    [1., 0., 0., 0.]\n",
    "])\n",
    "\n",
    "x0 = np.array([\n",
    "    [10.],\n",
    "    [0.],\n",
    "    [0.],\n",
    "    [0.]\n",
    "])\n",
    "\n",
    "# LQR gain\n",
    "K = np.array([[1474, 0.2236, 180.6, 1.348]])"
   ]
  },
  {
   "cell_type": "code",
   "execution_count": 1,
   "metadata": {},
   "outputs": [
    {
     "ename": "NameError",
     "evalue": "name 'SystemResponseSimulator' is not defined",
     "output_type": "error",
     "traceback": [
      "\u001b[1;31m---------------------------------------------------------------------------\u001b[0m",
      "\u001b[1;31mNameError\u001b[0m                                 Traceback (most recent call last)",
      "\u001b[1;32m<ipython-input-1-b364dbe38960>\u001b[0m in \u001b[0;36m<module>\u001b[1;34m()\u001b[0m\n\u001b[0;32m      5\u001b[0m \u001b[1;33m\u001b[0m\u001b[0m\n\u001b[0;32m      6\u001b[0m \u001b[1;31m# Simulator setting\u001b[0m\u001b[1;33m\u001b[0m\u001b[1;33m\u001b[0m\u001b[0m\n\u001b[1;32m----> 7\u001b[1;33m \u001b[0msimulator\u001b[0m \u001b[1;33m=\u001b[0m \u001b[0mSystemResponseSimulator\u001b[0m\u001b[1;33m(\u001b[0m\u001b[0mA\u001b[0m\u001b[1;33m,\u001b[0m \u001b[0mB\u001b[0m\u001b[1;33m,\u001b[0m \u001b[0mC\u001b[0m\u001b[1;33m,\u001b[0m \u001b[0mx0\u001b[0m\u001b[1;33m,\u001b[0m \u001b[0mts\u001b[0m\u001b[1;33m,\u001b[0m \u001b[0mtf\u001b[0m\u001b[1;33m,\u001b[0m \u001b[0mdt\u001b[0m\u001b[1;33m)\u001b[0m\u001b[1;33m\u001b[0m\u001b[0m\n\u001b[0m",
      "\u001b[1;31mNameError\u001b[0m: name 'SystemResponseSimulator' is not defined"
     ]
    }
   ],
   "source": [
    "# Simulation parameter\n",
    "dt = 0.001\n",
    "ts = 0.00\n",
    "tf = 20.0\n",
    "\n",
    "# Simulator setting\n",
    "simulator = SystemResponseSimulator(A, B, C, x0, ts, tf, dt)"
   ]
  },
  {
   "cell_type": "code",
   "execution_count": 2,
   "metadata": {
    "scrolled": false
   },
   "outputs": [
    {
     "ename": "NameError",
     "evalue": "name 'simulator' is not defined",
     "output_type": "error",
     "traceback": [
      "\u001b[1;31m---------------------------------------------------------------------------\u001b[0m",
      "\u001b[1;31mNameError\u001b[0m                                 Traceback (most recent call last)",
      "\u001b[1;32m<ipython-input-2-f7a5147c4638>\u001b[0m in \u001b[0;36m<module>\u001b[1;34m()\u001b[0m\n\u001b[0;32m      1\u001b[0m \u001b[1;31m# Simulation\u001b[0m\u001b[1;33m\u001b[0m\u001b[1;33m\u001b[0m\u001b[0m\n\u001b[1;32m----> 2\u001b[1;33m \u001b[0mx\u001b[0m \u001b[1;33m=\u001b[0m \u001b[0msimulator\u001b[0m\u001b[1;33m.\u001b[0m\u001b[0mx0\u001b[0m\u001b[1;33m\u001b[0m\u001b[0m\n\u001b[0m\u001b[0;32m      3\u001b[0m \u001b[0mx_out1\u001b[0m \u001b[1;33m=\u001b[0m \u001b[0mx\u001b[0m\u001b[1;33m\u001b[0m\u001b[0m\n\u001b[0;32m      4\u001b[0m \u001b[0mu_out1\u001b[0m \u001b[1;33m=\u001b[0m \u001b[0mnp\u001b[0m\u001b[1;33m.\u001b[0m\u001b[0marray\u001b[0m\u001b[1;33m(\u001b[0m\u001b[1;33m[\u001b[0m\u001b[1;33m[\u001b[0m\u001b[1;36m0\u001b[0m\u001b[1;33m]\u001b[0m\u001b[1;33m]\u001b[0m\u001b[1;33m)\u001b[0m\u001b[1;33m\u001b[0m\u001b[0m\n\u001b[0;32m      5\u001b[0m \u001b[1;33m\u001b[0m\u001b[0m\n",
      "\u001b[1;31mNameError\u001b[0m: name 'simulator' is not defined"
     ]
    }
   ],
   "source": [
    "# Simulation\n",
    "x = simulator.x0\n",
    "x_out1 = x\n",
    "u_out1 = np.array([[0]])\n",
    "\n",
    "for t in simulator.range():\n",
    "    # Calculate input signal\n",
    "    u = np.dot(K, x)\n",
    "\n",
    "    # Calculate derivative of state variable\n",
    "    x_dot = simulator.calculateStateDot(x, u)\n",
    "\n",
    "    # Update parameter\n",
    "    x_out1 = np.hstack((x_out1, x_dot))\n",
    "    u_out1 = np.hstack((u_out1, u))\n",
    "\n",
    "    x = x_dot\n",
    "    "
   ]
  },
  {
   "cell_type": "code",
   "execution_count": 26,
   "metadata": {},
   "outputs": [],
   "source": [
    "x_out1 = simulator.freeResponse()"
   ]
  },
  {
   "cell_type": "code",
   "execution_count": 29,
   "metadata": {},
   "outputs": [
    {
     "data": {
      "image/png": "[encoded data removed]",
      "text/plain": [
       "<matplotlib.figure.Figure at 0x9a8e780>"
      ]
     },
     "metadata": {},
     "output_type": "display_data"
    }
   ],
   "source": [
    "fig = plt.figure(figsize=(10, 15))\n",
    "plt.subplot(3, 1, 1)\n",
    "plt.plot(simulator.t, x_out1[0, :], label=\"$x_1$\")\n",
    "plt.grid()\n",
    "\n",
    "plt.subplot(3, 1, 2)\n",
    "plt.plot(simulator.t, x_out1[1, :], label=\"$x_2$\")\n",
    "plt.grid()\n",
    "\n",
    "plt.subplot(3, 1, 3)\n",
    "plt.plot(simulator.t, u_out1[0], label=\"u\")\n",
    "plt.grid()"
   ]
  },
  {
   "cell_type": "code",
   "execution_count": null,
   "metadata": {},
   "outputs": [],
   "source": []
  }
 ],
 "metadata": {
  "kernelspec": {
   "display_name": "Python 3",
   "language": "python",
   "name": "python3"
  },
  "language_info": {
   "codemirror_mode": {
    "name": "ipython",
    "version": 3
   },
   "file_extension": ".py",
   "mimetype": "text/x-python",
   "name": "python",
   "nbconvert_exporter": "python",
   "pygments_lexer": "ipython3",
   "version": "3.6.4"
  }
 },
 "nbformat": 4,
 "nbformat_minor": 2
}
